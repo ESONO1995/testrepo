{
 "cells": [
  {
   "cell_type": "markdown",
   "id": "3ca134ec",
   "metadata": {},
   "source": [
    "# Data Science Tools and Ecosystem"
   ]
  },
  {
   "cell_type": "markdown",
   "id": "50de9b64",
   "metadata": {},
   "source": [
    "## In this notebook, Data Science Tools and Ecosystem are summarized."
   ]
  },
  {
   "cell_type": "markdown",
   "id": "1c016ae4",
   "metadata": {},
   "source": [
    "### Objectivs:\n",
    "\n",
    "* make some calculus\n",
    "* make tables \n",
    "* ordered and unordered list\n",
    "* work whit marckdowns\n",
    "\n"
   ]
  },
  {
   "cell_type": "markdown",
   "id": "51811dfd",
   "metadata": {},
   "source": [
    "### Some of the popular languages that Data Scientists use are:"
   ]
  },
  {
   "cell_type": "markdown",
   "id": "c300ef1d",
   "metadata": {},
   "source": [
    "1. Java\n",
    "2. C++\n",
    "3. python\n",
    "4. R studio"
   ]
  },
  {
   "cell_type": "markdown",
   "id": "b0354516",
   "metadata": {},
   "source": [
    "### Some of the commonly used libraries used by Data Scientists include:"
   ]
  },
  {
   "cell_type": "markdown",
   "id": "ceb015cf",
   "metadata": {},
   "source": [
    "1. ggplot\n",
    "2. Pandas\n",
    "3. Matplotlib\n",
    "4. Selenium"
   ]
  },
  {
   "cell_type": "markdown",
   "id": "02ea714e",
   "metadata": {},
   "source": [
    "### Data Science Tools"
   ]
  },
  {
   "cell_type": "markdown",
   "id": "a1deace5",
   "metadata": {},
   "source": [
    "|Development Environments|\n",
    " -------------------------\n",
    "|Jupyter Notebook|\n",
    "|GitHUb|\n",
    "|Java DEvelopement KIt|"
   ]
  },
  {
   "cell_type": "markdown",
   "id": "4a572313",
   "metadata": {},
   "source": [
    "### Below are a few examples of evaluating arithmetic expressions in Python"
   ]
  },
  {
   "cell_type": "markdown",
   "id": "9b5a59db",
   "metadata": {},
   "source": [
    "* Suma -> a + b\n",
    "* Resta -> a - b\n",
    "* Multiplicacion -> a * b\n",
    "* Division -> a / b"
   ]
  },
  {
   "cell_type": "code",
   "execution_count": 2,
   "id": "66bba768",
   "metadata": {},
   "outputs": [
    {
     "data": {
      "text/plain": [
       "17"
      ]
     },
     "execution_count": 2,
     "metadata": {},
     "output_type": "execute_result"
    }
   ],
   "source": [
    "#This a simple arithmetic expression to mutiply then add integers\n",
    "(3*4)+5"
   ]
  },
  {
   "cell_type": "code",
   "execution_count": 3,
   "id": "3de32747",
   "metadata": {},
   "outputs": [
    {
     "name": "stdout",
     "output_type": "stream",
     "text": [
      "3.3333333333333335\n"
     ]
    }
   ],
   "source": [
    "#This will convert 200 minutes to hours by diving by 60\n",
    "\n",
    "Min = 200\n",
    "\n",
    "Conv = Min / 60\n",
    "\n",
    "print(Conv)\n"
   ]
  },
  {
   "cell_type": "markdown",
   "id": "dfdbc12d",
   "metadata": {},
   "source": [
    "## Author:\n",
    "### ROGELIO ESONO"
   ]
  },
  {
   "cell_type": "code",
   "execution_count": null,
   "id": "be73f661",
   "metadata": {},
   "outputs": [],
   "source": []
  }
 ],
 "metadata": {
  "kernelspec": {
   "display_name": "Python 3 (ipykernel)",
   "language": "python",
   "name": "python3"
  },
  "language_info": {
   "codemirror_mode": {
    "name": "ipython",
    "version": 3
   },
   "file_extension": ".py",
   "mimetype": "text/x-python",
   "name": "python",
   "nbconvert_exporter": "python",
   "pygments_lexer": "ipython3",
   "version": "3.11.4"
  }
 },
 "nbformat": 4,
 "nbformat_minor": 5
}
